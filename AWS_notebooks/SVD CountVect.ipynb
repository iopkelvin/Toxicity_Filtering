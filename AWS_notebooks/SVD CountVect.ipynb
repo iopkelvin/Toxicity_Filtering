{
 "cells": [
  {
   "cell_type": "code",
   "execution_count": 1,
   "metadata": {},
   "outputs": [
    {
     "name": "stderr",
     "output_type": "stream",
     "text": [
      "Using TensorFlow backend.\n"
     ]
    }
   ],
   "source": [
    "import pandas as pd\n",
    "import numpy as np\n",
    "import nltk\n",
    "import pickle\n",
    "from contextlib import contextmanager\n",
    "import copy\n",
    "import os\n",
    "import re\n",
    "import string\n",
    "import time\n",
    "import warnings\n",
    "from sklearn.feature_extraction.text import CountVectorizer \n",
    "from sklearn.decomposition import TruncatedSVD\n",
    "from sklearn.decomposition import NMF\n",
    "from sklearn.metrics.pairwise import cosine_similarity\n",
    "from sklearn.decomposition import LatentDirichletAllocation\n",
    "import nltk\n",
    "from sklearn.feature_extraction.text import TfidfVectorizer\n",
    "from imblearn.over_sampling import SMOTE, ADASYN, RandomOverSampler\n",
    "from xgboost import XGBClassifier\n",
    "from sklearn.metrics import roc_auc_score, roc_curve\n",
    "from matplotlib import pyplot\n",
    "from xgboost import plot_importance\n",
    "from sklearn.metrics import roc_curve, auc\n",
    "# Create a function to calculate the error metrics, since we'll be doing this several times\n",
    "from sklearn.metrics import confusion_matrix\n",
    "import matplotlib.pyplot as plt\n",
    "import seaborn as sns\n",
    "%matplotlib inline"
   ]
  },
  {
   "cell_type": "code",
   "execution_count": 2,
   "metadata": {},
   "outputs": [],
   "source": [
    "@contextmanager\n",
    "def timer(msg):\n",
    "    t0 = time.time()\n",
    "    print(f'[{msg}] start.')\n",
    "    yield\n",
    "    elapsed_time = time.time() - t0\n",
    "    print(f'[{msg}] done in {elapsed_time / 60:.2f} min.')"
   ]
  },
  {
   "cell_type": "code",
   "execution_count": 3,
   "metadata": {},
   "outputs": [],
   "source": [
    "data = pd.read_csv('cleaned_short.csv')"
   ]
  },
  {
   "cell_type": "code",
   "execution_count": 4,
   "metadata": {},
   "outputs": [
    {
     "name": "stdout",
     "output_type": "stream",
     "text": [
      "[CountVect] start.\n",
      "[CountVect] done in 0.80 min.\n"
     ]
    }
   ],
   "source": [
    "with timer('CountVect'):\n",
    "    vectorizer = CountVectorizer(stop_words='english', ngram_range=(1,2))\n",
    "    doc_word = vectorizer.fit_transform(data.comment_text)"
   ]
  },
  {
   "cell_type": "code",
   "execution_count": 5,
   "metadata": {},
   "outputs": [
    {
     "name": "stdout",
     "output_type": "stream",
     "text": [
      "[SVD] start.\n",
      "[SVD] done in 2.28 min.\n"
     ]
    }
   ],
   "source": [
    "# Acronynms: Latent Semantic Analysis (LSA) is just another name for \n",
    "#  Signular Value Decomposition (SVD) applied to Natural Language Processing (NLP)\n",
    "with timer('SVD'):\n",
    "    lsa = TruncatedSVD(30)\n",
    "    doc_topic = lsa.fit_transform(doc_word)"
   ]
  },
  {
   "cell_type": "code",
   "execution_count": 6,
   "metadata": {},
   "outputs": [],
   "source": [
    "def display_topics(model, feature_names, no_top_words, topic_names=None):\n",
    "    for ix, topic in enumerate(model.components_):\n",
    "        if not topic_names or not topic_names[ix]:\n",
    "            print(\"\\nTopic \", ix)\n",
    "        else:\n",
    "            print(\"\\nTopic: '\",topic_names[ix],\"'\")\n",
    "        print(\", \".join([feature_names[i]\n",
    "                        for i in topic.argsort()[:-no_top_words - 1:-1]]))"
   ]
  },
  {
   "cell_type": "code",
   "execution_count": 7,
   "metadata": {
    "scrolled": true
   },
   "outputs": [
    {
     "name": "stdout",
     "output_type": "stream",
     "text": [
      "\n",
      "Topic  0\n",
      "people, just, like, did, trump, women, does, think, church, know\n",
      "\n",
      "Topic  1\n",
      "people, trump, white, black, president, like, obama, racist, white people, country\n",
      "\n",
      "Topic  2\n",
      "trump, women, did, men, president, just, like, obama, clinton, hillary\n",
      "\n",
      "Topic  3\n",
      "women, men, people, woman, men women, male, children, white, rights, sexual\n",
      "\n",
      "Topic  4\n",
      "trump, church, people, women, men, catholic, god, white, catholic church, president\n",
      "\n",
      "Topic  5\n",
      "god, did, jesus, love, man, know, said, women, people, men\n",
      "\n",
      "Topic  6\n",
      "white, black, did, church, racist, racism, right, white people, race, man\n",
      "\n",
      "Topic  7\n",
      "did, church, people, years, catholic, time, state, know, government, think\n",
      "\n",
      "Topic  8\n",
      "like, did, church, white, people, women, jesus, men, people like, just like\n",
      "\n",
      "Topic  9\n",
      "just, did, church, people, trump, women, god, white, men, just like\n",
      "\n",
      "Topic  10\n",
      "think, know, time, good, years, really, way, going, white, better\n",
      "\n",
      "Topic  11\n",
      "does, think, know, say, did, mean, make, does mean, does make, really\n",
      "\n",
      "Topic  12\n",
      "right, think, left, wing, right wing, rights, did, alt, just, alt right\n",
      "\n",
      "Topic  13\n",
      "know, right, time, catholic, years, man, did know, let, good, trump\n",
      "\n",
      "Topic  14\n",
      "state, tax, know, god, government, pay, money, white, did, want\n",
      "\n",
      "Topic  15\n",
      "law, catholic, muslim, muslims, religious, www, religion, canada, com, rights\n",
      "\n",
      "Topic  16\n",
      "good, jesus, life, man, catholic, want, make, way, say, care\n",
      "\n",
      "Topic  17\n",
      "jesus, law, state, man, said, church, time, tax, black, say\n",
      "\n",
      "Topic  18\n",
      "man, black, woman, god, church, men, police, law, person, state\n",
      "\n",
      "Topic  19\n",
      "years, www, com, jesus, https, http, said, https www, http www, news\n",
      "\n",
      "Topic  20\n",
      "time, www, com, https, http, catholic, https www, http www, news, god\n",
      "\n",
      "Topic  21\n",
      "catholic, man, years, life, woman, children, state, tax, abortion, catholic church\n",
      "\n",
      "Topic  22\n",
      "want, way, say, make, black, need, world, muslims, said, muslim\n",
      "\n",
      "Topic  23\n",
      "black, jesus, catholic, obama, care, president, lives, police, women, matter\n",
      "\n",
      "Topic  24\n",
      "say, want, years, state, said, catholic, good, make, law, god\n",
      "\n",
      "Topic  25\n",
      "want, law, life, years, www, com, care, https, health, http\n",
      "\n",
      "Topic  26\n",
      "way, men, say, said, person, need, law, life, pope, sexual\n",
      "\n",
      "Topic  27\n",
      "men, make, jesus, catholic, want, world, black, trump, oil, state\n",
      "\n",
      "Topic  28\n",
      "make, said, women, money, pope, man, believe, person, way, president\n",
      "\n",
      "Topic  29\n",
      "way, want, man, tax, women, law, good, catholic, believe, black\n"
     ]
    }
   ],
   "source": [
    "display_topics(lsa, vectorizer.get_feature_names(), 10)"
   ]
  },
  {
   "cell_type": "code",
   "execution_count": 8,
   "metadata": {},
   "outputs": [],
   "source": [
    "def components(n):\n",
    "    return ['component_{0}'.format(s) for s in range(1, n+1)]"
   ]
  },
  {
   "cell_type": "code",
   "execution_count": 9,
   "metadata": {},
   "outputs": [],
   "source": [
    "doc_topic = pd.DataFrame(doc_topic.round(5), index=data.comment_text, columns=components(30))"
   ]
  },
  {
   "cell_type": "code",
   "execution_count": null,
   "metadata": {},
   "outputs": [],
   "source": []
  },
  {
   "cell_type": "code",
   "execution_count": 10,
   "metadata": {},
   "outputs": [],
   "source": [
    "# Create a logistic regression model to use\n",
    "from sklearn.linear_model import LogisticRegression\n",
    "lr = LogisticRegression()"
   ]
  },
  {
   "cell_type": "code",
   "execution_count": 11,
   "metadata": {},
   "outputs": [],
   "source": [
    "y = np.where(data['target'] >= 0.5, 1, 0)"
   ]
  },
  {
   "cell_type": "code",
   "execution_count": 12,
   "metadata": {},
   "outputs": [],
   "source": [
    "from sklearn.model_selection import train_test_split\n",
    "x_train, x_test, y_train, y_test = train_test_split(doc_topic, y, test_size=0.3, random_state=42)\n",
    "x_balance, y_balance = RandomOverSampler().fit_sample(x_train, y_train)\n",
    "x_balance = pd.DataFrame(x_balance, columns=x_train.columns)"
   ]
  },
  {
   "cell_type": "code",
   "execution_count": 13,
   "metadata": {},
   "outputs": [
    {
     "name": "stderr",
     "output_type": "stream",
     "text": [
      "/Users/kelvin/anaconda3/lib/python3.7/site-packages/sklearn/linear_model/logistic.py:432: FutureWarning: Default solver will be changed to 'lbfgs' in 0.22. Specify a solver to silence this warning.\n",
      "  FutureWarning)\n"
     ]
    }
   ],
   "source": [
    "lr.fit(x_balance, y_balance)\n",
    "y_pred = lr.predict(x_test)"
   ]
  },
  {
   "cell_type": "code",
   "execution_count": 14,
   "metadata": {},
   "outputs": [],
   "source": [
    "# Create a function to calculate the error metrics, since we'll be doing this several times\n",
    "def conf_matrix(actual, predicted):\n",
    "    cm = confusion_matrix(actual, predicted)\n",
    "    ax = sns.heatmap(cm, xticklabels=['predicted_negative', 'predicted_positive'], \n",
    "                yticklabels=['actual_negative', 'actual_positive'], annot=True,\n",
    "                fmt='d', annot_kws={'fontsize':20}, cmap=\"YlGnBu\");\n",
    "    \n",
    "    true_neg, false_pos = cm[0]\n",
    "    false_neg, true_pos = cm[1]\n",
    "    bottom, top = ax.get_ylim()\n",
    "    ax.set_ylim(bottom + 0.5, top - 0.5)\n",
    "        \n",
    "    accuracy = round((true_pos + true_neg) / (true_pos + true_neg + false_pos + false_neg),3)\n",
    "    precision = round((true_pos) / (true_pos + false_pos),3)\n",
    "    recall = round((true_pos) / (true_pos + false_neg),3)\n",
    "    f1 = round(2 * (precision * recall) / (precision + recall),3)\n",
    "\n",
    "    cm_results = [accuracy, precision, recall, f1]\n",
    "    return cm_results"
   ]
  },
  {
   "cell_type": "code",
   "execution_count": 15,
   "metadata": {},
   "outputs": [
    {
     "data": {
      "image/png": "[encoded data removed]",
      "text/plain": [
       "<Figure size 432x288 with 2 Axes>"
      ]
     },
     "metadata": {
      "needs_background": "light"
     },
     "output_type": "display_data"
    }
   ],
   "source": [
    "# The heat map for the first logistic regression model\n",
    "cm1 = conf_matrix(y_test, y_pred)"
   ]
  },
  {
   "cell_type": "code",
   "execution_count": 16,
   "metadata": {},
   "outputs": [
    {
     "data": {
      "text/html": [
       "<div>\n",
       "<style scoped>\n",
       "    .dataframe tbody tr th:only-of-type {\n",
       "        vertical-align: middle;\n",
       "    }\n",
       "\n",
       "    .dataframe tbody tr th {\n",
       "        vertical-align: top;\n",
       "    }\n",
       "\n",
       "    .dataframe thead th {\n",
       "        text-align: right;\n",
       "    }\n",
       "</style>\n",
       "<table border=\"1\" class=\"dataframe\">\n",
       "  <thead>\n",
       "    <tr style=\"text-align: right;\">\n",
       "      <th></th>\n",
       "      <th>LogReg</th>\n",
       "    </tr>\n",
       "  </thead>\n",
       "  <tbody>\n",
       "    <tr>\n",
       "      <th>Accuracy</th>\n",
       "      <td>0.687</td>\n",
       "    </tr>\n",
       "    <tr>\n",
       "      <th>Precision</th>\n",
       "      <td>0.185</td>\n",
       "    </tr>\n",
       "    <tr>\n",
       "      <th>Recall</th>\n",
       "      <td>0.569</td>\n",
       "    </tr>\n",
       "    <tr>\n",
       "      <th>F1 Score</th>\n",
       "      <td>0.279</td>\n",
       "    </tr>\n",
       "  </tbody>\n",
       "</table>\n",
       "</div>"
      ],
      "text/plain": [
       "           LogReg\n",
       "Accuracy    0.687\n",
       "Precision   0.185\n",
       "Recall      0.569\n",
       "F1 Score    0.279"
      ]
     },
     "execution_count": 16,
     "metadata": {},
     "output_type": "execute_result"
    }
   ],
   "source": [
    "# Compile all of the error metrics into a dataframe for comparison\n",
    "results = pd.DataFrame(list(zip(cm1)))\n",
    "results = results.set_index([['Accuracy', 'Precision', 'Recall', 'F1 Score']])\n",
    "results.columns = ['LogReg']\n",
    "results"
   ]
  },
  {
   "cell_type": "code",
   "execution_count": 17,
   "metadata": {},
   "outputs": [],
   "source": [
    "# Fit the second Naive Bayes model\n",
    "from sklearn.naive_bayes import BernoulliNB\n",
    "bnb = BernoulliNB()\n",
    "bnb.fit(x_balance, y_balance)\n",
    "y_pred_nb = bnb.predict(x_test)"
   ]
  },
  {
   "cell_type": "code",
   "execution_count": 18,
   "metadata": {},
   "outputs": [
    {
     "data": {
      "image/png": "[encoded data removed]",
      "text/plain": [
       "<Figure size 432x288 with 2 Axes>"
      ]
     },
     "metadata": {
      "needs_background": "light"
     },
     "output_type": "display_data"
    }
   ],
   "source": [
    "# Here's the heat map for the first Naive Bayes model\n",
    "cm2 = conf_matrix(y_test, y_pred_nb)"
   ]
  },
  {
   "cell_type": "code",
   "execution_count": 19,
   "metadata": {},
   "outputs": [
    {
     "data": {
      "text/html": [
       "<div>\n",
       "<style scoped>\n",
       "    .dataframe tbody tr th:only-of-type {\n",
       "        vertical-align: middle;\n",
       "    }\n",
       "\n",
       "    .dataframe tbody tr th {\n",
       "        vertical-align: top;\n",
       "    }\n",
       "\n",
       "    .dataframe thead th {\n",
       "        text-align: right;\n",
       "    }\n",
       "</style>\n",
       "<table border=\"1\" class=\"dataframe\">\n",
       "  <thead>\n",
       "    <tr style=\"text-align: right;\">\n",
       "      <th></th>\n",
       "      <th>LogReg_CountVec</th>\n",
       "      <th>NB_CountVec</th>\n",
       "    </tr>\n",
       "  </thead>\n",
       "  <tbody>\n",
       "    <tr>\n",
       "      <th>Accuracy</th>\n",
       "      <td>0.687</td>\n",
       "      <td>0.612</td>\n",
       "    </tr>\n",
       "    <tr>\n",
       "      <th>Precision</th>\n",
       "      <td>0.185</td>\n",
       "      <td>0.156</td>\n",
       "    </tr>\n",
       "    <tr>\n",
       "      <th>Recall</th>\n",
       "      <td>0.569</td>\n",
       "      <td>0.599</td>\n",
       "    </tr>\n",
       "    <tr>\n",
       "      <th>F1 Score</th>\n",
       "      <td>0.279</td>\n",
       "      <td>0.248</td>\n",
       "    </tr>\n",
       "  </tbody>\n",
       "</table>\n",
       "</div>"
      ],
      "text/plain": [
       "           LogReg_CountVec  NB_CountVec\n",
       "Accuracy             0.687        0.612\n",
       "Precision            0.185        0.156\n",
       "Recall               0.569        0.599\n",
       "F1 Score             0.279        0.248"
      ]
     },
     "execution_count": 19,
     "metadata": {},
     "output_type": "execute_result"
    }
   ],
   "source": [
    "# Compile all of the error metrics into a dataframe for comparison\n",
    "results = pd.DataFrame(list(zip(cm1, cm2)))\n",
    "results = results.set_index([['Accuracy', 'Precision', 'Recall', 'F1 Score']])\n",
    "results.columns = ['LogReg_CountVec', 'NB_CountVec']\n",
    "results"
   ]
  },
  {
   "cell_type": "code",
   "execution_count": 20,
   "metadata": {},
   "outputs": [
    {
     "name": "stdout",
     "output_type": "stream",
     "text": [
      "[timer] start.\n"
     ]
    },
    {
     "data": {
      "image/png": "[encoded data removed]",
      "text/plain": [
       "<Figure size 432x720 with 1 Axes>"
      ]
     },
     "metadata": {
      "needs_background": "light"
     },
     "output_type": "display_data"
    },
    {
     "name": "stdout",
     "output_type": "stream",
     "text": [
      "ROC_AUC:  0.64584977128722\n",
      "[[43172 19852]\n",
      " [ 2951  4552]]\n",
      "[timer] done in 2.12 min.\n"
     ]
    }
   ],
   "source": [
    "with timer('timer'):\n",
    "    model = XGBClassifier()\n",
    "    model.fit(x_balance, y_balance)\n",
    "    # plot feature importance\n",
    "    ax = plot_importance(model)\n",
    "    fig = ax.figure\n",
    "    fig.set_size_inches(6, 10)\n",
    "    pyplot.show()\n",
    "    predict = model.predict(x_test)\n",
    "    false_positive_rate, true_positive_rate, thresholds = roc_curve(y_test, predict)\n",
    "    roc_auc = auc(false_positive_rate, true_positive_rate)\n",
    "    print(\"ROC_AUC: \", roc_auc)\n",
    "    print(confusion_matrix(y_test, predict))"
   ]
  },
  {
   "cell_type": "code",
   "execution_count": 21,
   "metadata": {},
   "outputs": [
    {
     "data": {
      "image/png": "[encoded data removed]",
      "text/plain": [
       "<Figure size 432x288 with 2 Axes>"
      ]
     },
     "metadata": {
      "needs_background": "light"
     },
     "output_type": "display_data"
    }
   ],
   "source": [
    "cm3 = conf_matrix(y_test, predict)"
   ]
  },
  {
   "cell_type": "code",
   "execution_count": 22,
   "metadata": {},
   "outputs": [
    {
     "data": {
      "text/html": [
       "<div>\n",
       "<style scoped>\n",
       "    .dataframe tbody tr th:only-of-type {\n",
       "        vertical-align: middle;\n",
       "    }\n",
       "\n",
       "    .dataframe tbody tr th {\n",
       "        vertical-align: top;\n",
       "    }\n",
       "\n",
       "    .dataframe thead th {\n",
       "        text-align: right;\n",
       "    }\n",
       "</style>\n",
       "<table border=\"1\" class=\"dataframe\">\n",
       "  <thead>\n",
       "    <tr style=\"text-align: right;\">\n",
       "      <th></th>\n",
       "      <th>LogReg_CountVec</th>\n",
       "      <th>NB_CountVec</th>\n",
       "      <th>XBG_CountVec</th>\n",
       "    </tr>\n",
       "  </thead>\n",
       "  <tbody>\n",
       "    <tr>\n",
       "      <th>Accuracy</th>\n",
       "      <td>0.687</td>\n",
       "      <td>0.612</td>\n",
       "      <td>0.677</td>\n",
       "    </tr>\n",
       "    <tr>\n",
       "      <th>Precision</th>\n",
       "      <td>0.185</td>\n",
       "      <td>0.156</td>\n",
       "      <td>0.187</td>\n",
       "    </tr>\n",
       "    <tr>\n",
       "      <th>Recall</th>\n",
       "      <td>0.569</td>\n",
       "      <td>0.599</td>\n",
       "      <td>0.607</td>\n",
       "    </tr>\n",
       "    <tr>\n",
       "      <th>F1 Score</th>\n",
       "      <td>0.279</td>\n",
       "      <td>0.248</td>\n",
       "      <td>0.286</td>\n",
       "    </tr>\n",
       "  </tbody>\n",
       "</table>\n",
       "</div>"
      ],
      "text/plain": [
       "           LogReg_CountVec  NB_CountVec  XBG_CountVec\n",
       "Accuracy             0.687        0.612         0.677\n",
       "Precision            0.185        0.156         0.187\n",
       "Recall               0.569        0.599         0.607\n",
       "F1 Score             0.279        0.248         0.286"
      ]
     },
     "execution_count": 22,
     "metadata": {},
     "output_type": "execute_result"
    }
   ],
   "source": [
    "results = pd.DataFrame(list(zip(cm1, cm2, cm3)))\n",
    "results = results.set_index([['Accuracy', 'Precision', 'Recall', 'F1 Score']])\n",
    "results.columns = ['LogReg_CountVec', 'NB_CountVec', 'XBG_CountVec']\n",
    "results"
   ]
  },
  {
   "cell_type": "code",
   "execution_count": null,
   "metadata": {},
   "outputs": [],
   "source": [
    "import pyLDAvis\n",
    "import pyLDAvis.gensim\n",
    "pyLDAvis.enable_notebook()\n",
    "\n",
    "pyLDAvis.gensim.prepare(ldamodel, corpus, dictionary)"
   ]
  },
  {
   "cell_type": "code",
   "execution_count": null,
   "metadata": {},
   "outputs": [],
   "source": []
  },
  {
   "cell_type": "code",
   "execution_count": 6,
   "metadata": {},
   "outputs": [],
   "source": [
    "import pandas as pd\n",
    "import numpy as np\n",
    "import nltk\n",
    "import pickle\n",
    "from contextlib import contextmanager\n",
    "import copy\n",
    "import os\n",
    "import re\n",
    "import string\n",
    "import time\n",
    "import warnings\n",
    "from sklearn.feature_extraction.text import CountVectorizer \n",
    "from sklearn.decomposition import TruncatedSVD\n",
    "from sklearn.decomposition import NMF\n",
    "from sklearn.metrics.pairwise import cosine_similarity\n",
    "from sklearn.decomposition import LatentDirichletAllocation\n",
    "import nltk\n",
    "from sklearn.feature_extraction.text import TfidfVectorizer\n",
    "from imblearn.over_sampling import SMOTE, ADASYN, RandomOverSampler\n",
    "from xgboost import XGBClassifier\n",
    "from sklearn.metrics import roc_auc_score, roc_curve\n",
    "from matplotlib import pyplot\n",
    "from xgboost import plot_importance\n",
    "from sklearn.metrics import roc_curve, auc\n",
    "# Create a function to calculate the error metrics, since we'll be doing this several times\n",
    "from sklearn.metrics import confusion_matrix\n",
    "import matplotlib.pyplot as plt\n",
    "import seaborn as sns\n",
    "%matplotlib inline"
   ]
  },
  {
   "cell_type": "code",
   "execution_count": 37,
   "metadata": {},
   "outputs": [],
   "source": [
    "# Create a function to calculate the error metrics, since we'll be doing this several times\n",
    "def conf_matrix(actual, predicted):\n",
    "    cm = confusion_matrix(actual, predicted)\n",
    "    ax = sns.heatmap(cm, xticklabels=['predicted_negative', 'predicted_positive'], \n",
    "                yticklabels=['actual_negative', 'actual_positive'], annot=True,\n",
    "                fmt='d', annot_kws={'fontsize':20}, cmap=\"YlGnBu\");\n",
    "    \n",
    "    true_neg, false_pos = cm[0]\n",
    "    false_neg, true_pos = cm[1]\n",
    "    bottom, top = ax.get_ylim()\n",
    "    ax.set_ylim(bottom + 0.5, top - 0.5)\n",
    "        \n",
    "    accuracy = round((true_pos + true_neg) / (true_pos + true_neg + false_pos + false_neg),3)\n",
    "    precision = round((true_pos) / (true_pos + false_pos),3)\n",
    "    recall = round((true_pos) / (true_pos + false_neg),3)\n",
    "    f1 = round(2 * (precision * recall) / (precision + recall),3)\n",
    "\n",
    "    cm_results = [accuracy, precision, recall, f1]\n",
    "    return cm_results"
   ]
  },
  {
   "cell_type": "code",
   "execution_count": 7,
   "metadata": {},
   "outputs": [],
   "source": [
    "@contextmanager\n",
    "def timer(msg):\n",
    "    t0 = time.time()\n",
    "    print(f'[{msg}] start.')\n",
    "    yield\n",
    "    elapsed_time = time.time() - t0\n",
    "    print(f'[{msg}] done in {elapsed_time / 60:.2f} min.')"
   ]
  },
  {
   "cell_type": "code",
   "execution_count": 9,
   "metadata": {},
   "outputs": [],
   "source": [
    "data = pd.read_csv('cleaned_short_simple.csv')"
   ]
  },
  {
   "cell_type": "code",
   "execution_count": 23,
   "metadata": {
    "scrolled": true
   },
   "outputs": [
    {
     "data": {
      "text/plain": [
       "True"
      ]
     },
     "execution_count": 23,
     "metadata": {},
     "output_type": "execute_result"
    }
   ],
   "source": [
    "any(data.comment_text.isnull())"
   ]
  },
  {
   "cell_type": "code",
   "execution_count": 28,
   "metadata": {},
   "outputs": [],
   "source": [
    "data.comment_text = data.comment_text.replace(np.nan, '')"
   ]
  },
  {
   "cell_type": "code",
   "execution_count": 118,
   "metadata": {},
   "outputs": [
    {
     "name": "stdout",
     "output_type": "stream",
     "text": [
      "[CountVect] start.\n",
      "[CountVect] done in 0.16 min.\n"
     ]
    }
   ],
   "source": [
    "with timer('CountVect'):\n",
    "    vectorizer = CountVectorizer(stop_words='english')\n",
    "    doc_word = vectorizer.fit_transform(data.comment_text)"
   ]
  },
  {
   "cell_type": "code",
   "execution_count": 149,
   "metadata": {},
   "outputs": [
    {
     "name": "stdout",
     "output_type": "stream",
     "text": [
      "[SVD] start.\n",
      "[SVD] done in 0.21 min.\n"
     ]
    }
   ],
   "source": [
    "# Acronynms: Latent Semantic Analysis (LSA) is just another name for \n",
    "#  Signular Value Decomposition (SVD) applied to Natural Language Processing (NLP)\n",
    "with timer('SVD'):\n",
    "    lsa = TruncatedSVD(50)\n",
    "    doc_topic = lsa.fit_transform(doc_word)"
   ]
  },
  {
   "cell_type": "code",
   "execution_count": 150,
   "metadata": {},
   "outputs": [],
   "source": [
    "def display_topics(model, feature_names, no_top_words, topic_names=None):\n",
    "    for ix, topic in enumerate(model.components_):\n",
    "        if not topic_names or not topic_names[ix]:\n",
    "            print(\"\\nTopic \", ix)\n",
    "        else:\n",
    "            print(\"\\nTopic: '\",topic_names[ix],\"'\")\n",
    "        print(\", \".join([feature_names[i]\n",
    "                        for i in topic.argsort()[:-no_top_words - 1:-1]]))"
   ]
  },
  {
   "cell_type": "code",
   "execution_count": 151,
   "metadata": {
    "scrolled": true
   },
   "outputs": [
    {
     "name": "stdout",
     "output_type": "stream",
     "text": [
      "\n",
      "Topic  0\n",
      "people, like, trump, women, think, church, know, white, right, god\n",
      "\n",
      "Topic  1\n",
      "trump, people, white, black, president, obama, like, racist, country, racism\n",
      "\n",
      "Topic  2\n",
      "trump, women, men, like, president, obama, clinton, hillary, right, said\n",
      "\n",
      "Topic  3\n",
      "women, men, people, woman, male, children, white, rights, want, female\n",
      "\n",
      "Topic  4\n",
      "trump, people, church, women, men, catholic, god, donald, clinton, president\n",
      "\n",
      "Topic  5\n",
      "god, jesus, love, trump, man, people, life, know, women, said\n",
      "\n",
      "Topic  6\n",
      "white, black, god, racist, man, racism, men, jesus, race, right\n",
      "\n",
      "Topic  7\n",
      "like, white, god, church, women, trump, men, people, black, jesus\n",
      "\n",
      "Topic  8\n",
      "think, know, really, white, black, say, good, maybe, agree, way\n",
      "\n",
      "Topic  9\n",
      "right, think, left, wing, rights, like, alt, wrong, abortion, speech\n",
      "\n",
      "Topic  10\n",
      "know, right, say, man, said, woman, catholic, let, read, truth\n",
      "\n",
      "Topic  11\n",
      "state, know, tax, god, government, pay, money, white, think, taxes\n",
      "\n",
      "Topic  12\n",
      "law, catholic, muslim, say, muslims, jesus, said, religious, religion, rights\n",
      "\n",
      "Topic  13\n",
      "good, man, jesus, make, want, tax, say, money, pay, woman\n",
      "\n",
      "Topic  14\n",
      "jesus, law, state, said, time, church, tax, man, know, black\n",
      "\n",
      "Topic  15\n",
      "man, black, law, woman, god, men, church, police, state, sex\n",
      "\n",
      "Topic  16\n",
      "years, jesus, man, ago, year, world, said, church, obama, old\n",
      "\n",
      "Topic  17\n",
      "catholic, man, life, years, woman, tax, abortion, children, pay, school\n",
      "\n",
      "Topic  18\n",
      "want, make, say, way, said, believe, world, church, muslims, black\n",
      "\n",
      "Topic  19\n",
      "black, catholic, obama, police, said, jesus, www, com, women, president\n",
      "\n",
      "Topic  20\n",
      "man, say, men, said, state, www, com, muslim, tax, https\n",
      "\n",
      "Topic  21\n",
      "say, years, want, law, said, state, catholic, men, make, god\n",
      "\n",
      "Topic  22\n",
      "want, black, jesus, man, good, catholic, time, years, country, state\n",
      "\n",
      "Topic  23\n",
      "men, jesus, make, catholic, black, way, trump, gay, law, world\n",
      "\n",
      "Topic  24\n",
      "way, state, want, men, vote, life, say, party, catholic, obama\n",
      "\n",
      "Topic  25\n",
      "law, say, care, said, need, www, health, government, com, tax\n",
      "\n",
      "Topic  26\n",
      "www, com, way, want, http, https, said, news, law, article\n",
      "\n",
      "Topic  27\n",
      "life, state, men, www, com, need, http, https, children, human\n",
      "\n",
      "Topic  28\n",
      "say, www, com, jesus, tax, http, https, way, law, black\n",
      "\n",
      "Topic  29\n",
      "need, really, party, vote, care, jesus, health, catholic, man, president\n",
      "\n",
      "Topic  30\n",
      "government, party, vote, make, president, care, men, obama, say, www\n",
      "\n",
      "Topic  31\n",
      "world, obama, president, law, catholic, life, country, say, said, war\n",
      "\n",
      "Topic  32\n",
      "tax, believe, obama, party, president, care, christian, income, pay, clinton\n",
      "\n",
      "Topic  33\n",
      "care, school, health, children, public, muslim, obama, kids, going, schools\n",
      "\n",
      "Topic  34\n",
      "believe, world, care, health, government, state, pope, man, things, law\n",
      "\n",
      "Topic  35\n",
      "need, muslim, muslims, obama, make, government, believe, years, life, man\n",
      "\n",
      "Topic  36\n",
      "canada, care, health, fact, canadian, state, anti, country, mental, gay\n",
      "\n",
      "Topic  37\n",
      "believe, money, woman, really, obama, going, government, president, muslim, canada\n",
      "\n",
      "Topic  38\n",
      "really, government, muslim, read, obama, muslims, point, care, actually, comment\n",
      "\n",
      "Topic  39\n",
      "sex, gay, rights, government, woman, children, tax, obama, need, marriage\n",
      "\n",
      "Topic  40\n",
      "point, fact, woman, president, obama, person, want, actually, comment, better\n",
      "\n",
      "Topic  41\n",
      "pope, francis, bishops, new, priests, obama, vatican, muslim, canada, year\n",
      "\n",
      "Topic  42\n",
      "money, christian, pope, gay, sex, woman, rights, oil, francis, power\n",
      "\n",
      "Topic  43\n",
      "person, work, public, president, obama, rights, canada, human, new, country\n",
      "\n",
      "Topic  44\n",
      "person, work, going, vote, better, party, muslim, government, pay, muslims\n",
      "\n",
      "Topic  45\n",
      "point, love, better, work, country, children, oil, rights, year, comment\n",
      "\n",
      "Topic  46\n",
      "going, public, problem, person, change, point, oil, man, police, country\n",
      "\n",
      "Topic  47\n",
      "woman, point, work, problem, country, pope, vote, years, really, pay\n",
      "\n",
      "Topic  48\n",
      "country, woman, year, american, war, pope, history, person, old, free\n",
      "\n",
      "Topic  49\n",
      "fact, let, oil, support, yes, public, country, alaska, free, really\n"
     ]
    }
   ],
   "source": [
    "display_topics(lsa, vectorizer.get_feature_names(), 10)"
   ]
  },
  {
   "cell_type": "code",
   "execution_count": 152,
   "metadata": {},
   "outputs": [],
   "source": [
    "def components(n):\n",
    "    return ['component_{0}'.format(s) for s in range(1, n+1)]"
   ]
  },
  {
   "cell_type": "code",
   "execution_count": 153,
   "metadata": {},
   "outputs": [],
   "source": [
    "doc_topic = pd.DataFrame(doc_topic, index=data.comment_text, columns=components(50))"
   ]
  },
  {
   "cell_type": "markdown",
   "metadata": {},
   "source": [
    "## Modeling"
   ]
  },
  {
   "cell_type": "code",
   "execution_count": 154,
   "metadata": {},
   "outputs": [],
   "source": [
    "# Create a logistic regression model to use\n",
    "from sklearn.linear_model import LogisticRegression\n",
    "lr = LogisticRegression()"
   ]
  },
  {
   "cell_type": "code",
   "execution_count": 155,
   "metadata": {},
   "outputs": [],
   "source": [
    "y = data.y"
   ]
  },
  {
   "cell_type": "code",
   "execution_count": 156,
   "metadata": {},
   "outputs": [],
   "source": [
    "from sklearn.model_selection import train_test_split\n",
    "x_train, x_test, y_train, y_test = train_test_split(doc_topic, y, test_size=0.25, random_state=42)\n",
    "x_balance, y_balance = RandomOverSampler().fit_sample(x_train, y_train)\n",
    "x_balance = pd.DataFrame(x_balance, columns=x_train.columns)"
   ]
  },
  {
   "cell_type": "code",
   "execution_count": 157,
   "metadata": {},
   "outputs": [
    {
     "name": "stderr",
     "output_type": "stream",
     "text": [
      "/Users/kelvin/anaconda3/lib/python3.7/site-packages/sklearn/linear_model/logistic.py:432: FutureWarning: Default solver will be changed to 'lbfgs' in 0.22. Specify a solver to silence this warning.\n",
      "  FutureWarning)\n"
     ]
    }
   ],
   "source": [
    "lr.fit(x_train, y_train)\n",
    "y_pred = lr.predict(x_test)"
   ]
  },
  {
   "cell_type": "code",
   "execution_count": 158,
   "metadata": {},
   "outputs": [
    {
     "data": {
      "image/png": "[encoded data removed]",
      "text/plain": [
       "<Figure size 432x288 with 2 Axes>"
      ]
     },
     "metadata": {
      "needs_background": "light"
     },
     "output_type": "display_data"
    }
   ],
   "source": [
    "# The heat map for the first logistic regression model\n",
    "cm1 = conf_matrix(y_test, y_pred)"
   ]
  },
  {
   "cell_type": "code",
   "execution_count": 159,
   "metadata": {},
   "outputs": [],
   "source": [
    "# Fit the second Naive Bayes model\n",
    "from sklearn.naive_bayes import BernoulliNB\n",
    "bnb = BernoulliNB()\n",
    "bnb.fit(x_train, y_train)\n",
    "y_pred_nb = bnb.predict(x_test)"
   ]
  },
  {
   "cell_type": "code",
   "execution_count": 160,
   "metadata": {
    "scrolled": true
   },
   "outputs": [
    {
     "data": {
      "image/png": "[encoded data removed]",
      "text/plain": [
       "<Figure size 432x288 with 2 Axes>"
      ]
     },
     "metadata": {
      "needs_background": "light"
     },
     "output_type": "display_data"
    }
   ],
   "source": [
    "# Here's the heat map for the first Naive Bayes model\n",
    "cm2 = conf_matrix(y_test, y_pred_nb)"
   ]
  },
  {
   "cell_type": "code",
   "execution_count": 161,
   "metadata": {},
   "outputs": [
    {
     "name": "stdout",
     "output_type": "stream",
     "text": [
      "[timer] start.\n"
     ]
    },
    {
     "data": {
      "image/png": "[encoded data removed]",
      "text/plain": [
       "<Figure size 432x720 with 1 Axes>"
      ]
     },
     "metadata": {
      "needs_background": "light"
     },
     "output_type": "display_data"
    },
    {
     "name": "stdout",
     "output_type": "stream",
     "text": [
      "[timer] done in 1.92 min.\n"
     ]
    }
   ],
   "source": [
    "with timer('timer'):\n",
    "    model = XGBClassifier()\n",
    "    model.fit(x_train, y_train)\n",
    "    # plot feature importance\n",
    "    ax = plot_importance(model)\n",
    "    fig = ax.figure\n",
    "    fig.set_size_inches(6, 10)\n",
    "    pyplot.show()\n",
    "    predict = model.predict(x_test)\n",
    "    false_positive_rate, true_positive_rate, thresholds = roc_curve(y_test, predict)"
   ]
  },
  {
   "cell_type": "code",
   "execution_count": 162,
   "metadata": {
    "scrolled": true
   },
   "outputs": [
    {
     "data": {
      "image/png": "[encoded data removed]",
      "text/plain": [
       "<Figure size 432x288 with 2 Axes>"
      ]
     },
     "metadata": {
      "needs_background": "light"
     },
     "output_type": "display_data"
    }
   ],
   "source": [
    "cm3 = conf_matrix(y_test, predict)"
   ]
  },
  {
   "cell_type": "code",
   "execution_count": 63,
   "metadata": {},
   "outputs": [
    {
     "data": {
      "text/html": [
       "<div>\n",
       "<style scoped>\n",
       "    .dataframe tbody tr th:only-of-type {\n",
       "        vertical-align: middle;\n",
       "    }\n",
       "\n",
       "    .dataframe tbody tr th {\n",
       "        vertical-align: top;\n",
       "    }\n",
       "\n",
       "    .dataframe thead th {\n",
       "        text-align: right;\n",
       "    }\n",
       "</style>\n",
       "<table border=\"1\" class=\"dataframe\">\n",
       "  <thead>\n",
       "    <tr style=\"text-align: right;\">\n",
       "      <th></th>\n",
       "      <th>LogReg_CountVec</th>\n",
       "      <th>NB_CountVec</th>\n",
       "      <th>XBG_CountVec</th>\n",
       "    </tr>\n",
       "  </thead>\n",
       "  <tbody>\n",
       "    <tr>\n",
       "      <th>Accuracy</th>\n",
       "      <td>0.701</td>\n",
       "      <td>0.632</td>\n",
       "      <td>0.691</td>\n",
       "    </tr>\n",
       "    <tr>\n",
       "      <th>Precision</th>\n",
       "      <td>0.193</td>\n",
       "      <td>0.164</td>\n",
       "      <td>0.195</td>\n",
       "    </tr>\n",
       "    <tr>\n",
       "      <th>Recall</th>\n",
       "      <td>0.572</td>\n",
       "      <td>0.602</td>\n",
       "      <td>0.611</td>\n",
       "    </tr>\n",
       "    <tr>\n",
       "      <th>F1 Score</th>\n",
       "      <td>0.289</td>\n",
       "      <td>0.258</td>\n",
       "      <td>0.296</td>\n",
       "    </tr>\n",
       "  </tbody>\n",
       "</table>\n",
       "</div>"
      ],
      "text/plain": [
       "           LogReg_CountVec  NB_CountVec  XBG_CountVec\n",
       "Accuracy             0.701        0.632         0.691\n",
       "Precision            0.193        0.164         0.195\n",
       "Recall               0.572        0.602         0.611\n",
       "F1 Score             0.289        0.258         0.296"
      ]
     },
     "execution_count": 63,
     "metadata": {},
     "output_type": "execute_result"
    }
   ],
   "source": [
    "# 50 topic Oversample\n",
    "results = pd.DataFrame(list(zip(cm1, cm2, cm3)))\n",
    "results = results.set_index([['Accuracy', 'Precision', 'Recall', 'F1 Score']])\n",
    "results.columns = ['LogReg_CountVec', 'NB_CountVec', 'XBG_CountVec']\n",
    "results"
   ]
  },
  {
   "cell_type": "code",
   "execution_count": 78,
   "metadata": {},
   "outputs": [
    {
     "data": {
      "text/html": [
       "<div>\n",
       "<style scoped>\n",
       "    .dataframe tbody tr th:only-of-type {\n",
       "        vertical-align: middle;\n",
       "    }\n",
       "\n",
       "    .dataframe tbody tr th {\n",
       "        vertical-align: top;\n",
       "    }\n",
       "\n",
       "    .dataframe thead th {\n",
       "        text-align: right;\n",
       "    }\n",
       "</style>\n",
       "<table border=\"1\" class=\"dataframe\">\n",
       "  <thead>\n",
       "    <tr style=\"text-align: right;\">\n",
       "      <th></th>\n",
       "      <th>LogReg_CountVec</th>\n",
       "      <th>NB_CountVec</th>\n",
       "      <th>XBG_CountVec</th>\n",
       "    </tr>\n",
       "  </thead>\n",
       "  <tbody>\n",
       "    <tr>\n",
       "      <th>Accuracy</th>\n",
       "      <td>0.688</td>\n",
       "      <td>0.626</td>\n",
       "      <td>0.680</td>\n",
       "    </tr>\n",
       "    <tr>\n",
       "      <th>Precision</th>\n",
       "      <td>0.188</td>\n",
       "      <td>0.161</td>\n",
       "      <td>0.190</td>\n",
       "    </tr>\n",
       "    <tr>\n",
       "      <th>Recall</th>\n",
       "      <td>0.583</td>\n",
       "      <td>0.597</td>\n",
       "      <td>0.614</td>\n",
       "    </tr>\n",
       "    <tr>\n",
       "      <th>F1 Score</th>\n",
       "      <td>0.284</td>\n",
       "      <td>0.254</td>\n",
       "      <td>0.290</td>\n",
       "    </tr>\n",
       "  </tbody>\n",
       "</table>\n",
       "</div>"
      ],
      "text/plain": [
       "           LogReg_CountVec  NB_CountVec  XBG_CountVec\n",
       "Accuracy             0.688        0.626         0.680\n",
       "Precision            0.188        0.161         0.190\n",
       "Recall               0.583        0.597         0.614\n",
       "F1 Score             0.284        0.254         0.290"
      ]
     },
     "execution_count": 78,
     "metadata": {},
     "output_type": "execute_result"
    }
   ],
   "source": [
    "# 40 topic Oversample\n",
    "results = pd.DataFrame(list(zip(cm1, cm2, cm3)))\n",
    "results = results.set_index([['Accuracy', 'Precision', 'Recall', 'F1 Score']])\n",
    "results.columns = ['LogReg_CountVec', 'NB_CountVec', 'XBG_CountVec']\n",
    "results"
   ]
  },
  {
   "cell_type": "code",
   "execution_count": 48,
   "metadata": {
    "scrolled": true
   },
   "outputs": [
    {
     "data": {
      "text/html": [
       "<div>\n",
       "<style scoped>\n",
       "    .dataframe tbody tr th:only-of-type {\n",
       "        vertical-align: middle;\n",
       "    }\n",
       "\n",
       "    .dataframe tbody tr th {\n",
       "        vertical-align: top;\n",
       "    }\n",
       "\n",
       "    .dataframe thead th {\n",
       "        text-align: right;\n",
       "    }\n",
       "</style>\n",
       "<table border=\"1\" class=\"dataframe\">\n",
       "  <thead>\n",
       "    <tr style=\"text-align: right;\">\n",
       "      <th></th>\n",
       "      <th>LogReg_CountVec</th>\n",
       "      <th>NB_CountVec</th>\n",
       "      <th>XBG_CountVec</th>\n",
       "    </tr>\n",
       "  </thead>\n",
       "  <tbody>\n",
       "    <tr>\n",
       "      <th>Accuracy</th>\n",
       "      <td>0.686</td>\n",
       "      <td>0.622</td>\n",
       "      <td>0.679</td>\n",
       "    </tr>\n",
       "    <tr>\n",
       "      <th>Precision</th>\n",
       "      <td>0.184</td>\n",
       "      <td>0.159</td>\n",
       "      <td>0.188</td>\n",
       "    </tr>\n",
       "    <tr>\n",
       "      <th>Recall</th>\n",
       "      <td>0.567</td>\n",
       "      <td>0.592</td>\n",
       "      <td>0.607</td>\n",
       "    </tr>\n",
       "    <tr>\n",
       "      <th>F1 Score</th>\n",
       "      <td>0.278</td>\n",
       "      <td>0.251</td>\n",
       "      <td>0.287</td>\n",
       "    </tr>\n",
       "  </tbody>\n",
       "</table>\n",
       "</div>"
      ],
      "text/plain": [
       "           LogReg_CountVec  NB_CountVec  XBG_CountVec\n",
       "Accuracy             0.686        0.622         0.679\n",
       "Precision            0.184        0.159         0.188\n",
       "Recall               0.567        0.592         0.607\n",
       "F1 Score             0.278        0.251         0.287"
      ]
     },
     "execution_count": 48,
     "metadata": {},
     "output_type": "execute_result"
    }
   ],
   "source": [
    "# 30 topic Oversample\n",
    "results = pd.DataFrame(list(zip(cm1, cm2, cm3)))\n",
    "results = results.set_index([['Accuracy', 'Precision', 'Recall', 'F1 Score']])\n",
    "results.columns = ['LogReg_CountVec', 'NB_CountVec', 'XBG_CountVec']\n",
    "results"
   ]
  },
  {
   "cell_type": "code",
   "execution_count": null,
   "metadata": {},
   "outputs": [],
   "source": []
  }
 ],
 "metadata": {
  "kernelspec": {
   "display_name": "Python 3",
   "language": "python",
   "name": "python3"
  },
  "language_info": {
   "codemirror_mode": {
    "name": "ipython",
    "version": 3
   },
   "file_extension": ".py",
   "mimetype": "text/x-python",
   "name": "python",
   "nbconvert_exporter": "python",
   "pygments_lexer": "ipython3",
   "version": "3.7.5"
  }
 },
 "nbformat": 4,
 "nbformat_minor": 2
}
